{
  "nbformat": 4,
  "nbformat_minor": 0,
  "metadata": {
    "colab": {
      "provenance": []
    },
    "kernelspec": {
      "name": "python3",
      "display_name": "Python 3"
    },
    "language_info": {
      "name": "python"
    }
  },
  "cells": [
    {
      "cell_type": "code",
      "execution_count": 1,
      "metadata": {
        "colab": {
          "base_uri": "https://localhost:8080/"
        },
        "id": "tS8b3tpv7msq",
        "outputId": "2644a826-1b35-4802-e38b-781332f52e96"
      },
      "outputs": [
        {
          "output_type": "stream",
          "name": "stdout",
          "text": [
            "Requirement already satisfied: pandas in /usr/local/lib/python3.10/dist-packages (2.2.2)\n",
            "Requirement already satisfied: numpy in /usr/local/lib/python3.10/dist-packages (1.26.4)\n",
            "Requirement already satisfied: scikit-learn in /usr/local/lib/python3.10/dist-packages (1.5.2)\n",
            "Collecting surprise\n",
            "  Downloading surprise-0.1-py2.py3-none-any.whl.metadata (327 bytes)\n",
            "Requirement already satisfied: python-dateutil>=2.8.2 in /usr/local/lib/python3.10/dist-packages (from pandas) (2.8.2)\n",
            "Requirement already satisfied: pytz>=2020.1 in /usr/local/lib/python3.10/dist-packages (from pandas) (2024.2)\n",
            "Requirement already satisfied: tzdata>=2022.7 in /usr/local/lib/python3.10/dist-packages (from pandas) (2024.2)\n",
            "Requirement already satisfied: scipy>=1.6.0 in /usr/local/lib/python3.10/dist-packages (from scikit-learn) (1.13.1)\n",
            "Requirement already satisfied: joblib>=1.2.0 in /usr/local/lib/python3.10/dist-packages (from scikit-learn) (1.4.2)\n",
            "Requirement already satisfied: threadpoolctl>=3.1.0 in /usr/local/lib/python3.10/dist-packages (from scikit-learn) (3.5.0)\n",
            "Collecting scikit-surprise (from surprise)\n",
            "  Downloading scikit_surprise-1.1.4.tar.gz (154 kB)\n",
            "\u001b[2K     \u001b[90m━━━━━━━━━━━━━━━━━━━━━━━━━━━━━━━━━━━━━━━━\u001b[0m \u001b[32m154.4/154.4 kB\u001b[0m \u001b[31m3.1 MB/s\u001b[0m eta \u001b[36m0:00:00\u001b[0m\n",
            "\u001b[?25h  Installing build dependencies ... \u001b[?25l\u001b[?25hdone\n",
            "  Getting requirements to build wheel ... \u001b[?25l\u001b[?25hdone\n",
            "  Preparing metadata (pyproject.toml) ... \u001b[?25l\u001b[?25hdone\n",
            "Requirement already satisfied: six>=1.5 in /usr/local/lib/python3.10/dist-packages (from python-dateutil>=2.8.2->pandas) (1.16.0)\n",
            "Downloading surprise-0.1-py2.py3-none-any.whl (1.8 kB)\n",
            "Building wheels for collected packages: scikit-surprise\n",
            "  Building wheel for scikit-surprise (pyproject.toml) ... \u001b[?25l\u001b[?25hdone\n",
            "  Created wheel for scikit-surprise: filename=scikit_surprise-1.1.4-cp310-cp310-linux_x86_64.whl size=2357289 sha256=1c3f74f65586addd2bc16b91129e3e3fd742ecf039deff4225c4d187667be27e\n",
            "  Stored in directory: /root/.cache/pip/wheels/4b/3f/df/6acbf0a40397d9bf3ff97f582cc22fb9ce66adde75bc71fd54\n",
            "Successfully built scikit-surprise\n",
            "Installing collected packages: scikit-surprise, surprise\n",
            "Successfully installed scikit-surprise-1.1.4 surprise-0.1\n"
          ]
        }
      ],
      "source": [
        "pip install pandas numpy scikit-learn surprise\n"
      ]
    },
    {
      "cell_type": "code",
      "source": [
        "import pandas as pd\n",
        "from surprise import SVD, Dataset, Reader\n",
        "from surprise.model_selection import train_test_split\n",
        "from sklearn.feature_extraction.text import TfidfVectorizer\n",
        "from sklearn.metrics.pairwise import linear_kernel\n",
        "\n",
        "# Load the dataset\n",
        "movies = pd.read_csv(\"/content/movie.csv\")  # Movie dataset\n",
        "ratings = pd.read_csv(\"/content/rating.csv\")  # Ratings dataset\n",
        "\n"
      ],
      "metadata": {
        "id": "yBUu1wPt7nyg"
      },
      "execution_count": 3,
      "outputs": []
    },
    {
      "cell_type": "code",
      "source": [
        "# Collaborative Filtering - Using SVD\n",
        "def collaborative_filtering():\n",
        "    # Prepare data for Surprise\n",
        "    reader = Reader(rating_scale=(0.5, 5.0))\n",
        "    data = Dataset.load_from_df(ratings[['userId', 'movieId', 'rating']], reader)\n",
        "    trainset, testset = train_test_split(data, test_size=0.2)\n",
        "\n",
        "    # Build the model\n",
        "    algo = SVD()\n",
        "    algo.fit(trainset)\n",
        "\n",
        "    # Predict a specific user-movie rating\n",
        "    user_id = 1\n",
        "    movie_id = 50\n",
        "    prediction = algo.predict(user_id, movie_id)\n",
        "    print(f\"Predicted rating for User {user_id} on Movie {movie_id}: {prediction.est}\")\n",
        "    return algo\n",
        "\n"
      ],
      "metadata": {
        "id": "Hkvrtjrm7roH"
      },
      "execution_count": 4,
      "outputs": []
    },
    {
      "cell_type": "code",
      "source": [
        "# Content-Based Filtering\n",
        "def content_based_filtering(movie_id, top_n=5):\n",
        "    # TF-IDF vectorization of movie genres\n",
        "    tfidf = TfidfVectorizer(stop_words=\"english\")\n",
        "    tfidf_matrix = tfidf.fit_transform(movies[\"genres\"])\n",
        "\n",
        "    # Compute similarity\n",
        "    cosine_sim = linear_kernel(tfidf_matrix, tfidf_matrix)\n",
        "\n",
        "    # Get similar movies\n",
        "    sim_scores = list(enumerate(cosine_sim[movie_id]))\n",
        "    sim_scores = sorted(sim_scores, key=lambda x: x[1], reverse=True)[1:top_n+1]\n",
        "    movie_indices = [i[0] for i in sim_scores]\n",
        "    return movies.iloc[movie_indices]\n",
        "\n"
      ],
      "metadata": {
        "id": "IcUSSVR-7tBH"
      },
      "execution_count": 5,
      "outputs": []
    },
    {
      "cell_type": "code",
      "source": [
        "# Hybrid Recommendation System\n",
        "def hybrid_recommendation(user_id, movie_id):\n",
        "    algo = collaborative_filtering()\n",
        "    cb_recommendations = content_based_filtering(movie_id)\n",
        "    print(\"\\nCollaborative Recommendations:\")\n",
        "    for i in range(5):\n",
        "        print(f\"Movie {i+1}: {movies.iloc[i]['title']}\")\n",
        "    print(\"\\nContent-Based Recommendations:\")\n",
        "    print(cb_recommendations[[\"title\", \"genres\"]])\n",
        "\n"
      ],
      "metadata": {
        "id": "768PC8EI7uQF"
      },
      "execution_count": 6,
      "outputs": []
    },
    {
      "cell_type": "code",
      "source": [
        "# Interface Example\n",
        "if __name__ == \"__main__\":\n",
        "    print(\"Welcome to the Recommendation System!\")\n",
        "    print(\"1. Get Collaborative Filtering Recommendations\")\n",
        "    print(\"2. Get Content-Based Recommendations\")\n",
        "    print(\"3. Get Hybrid Recommendations\")\n",
        "    choice = int(input(\"Enter your choice: \"))\n",
        "\n",
        "    if choice == 1:\n",
        "        collaborative_filtering()\n",
        "    elif choice == 2:\n",
        "        movie_id = int(input(\"Enter a Movie ID: \"))\n",
        "        recommendations = content_based_filtering(movie_id)\n",
        "        print(\"Recommendations:\\n\", recommendations[[\"title\", \"genres\"]])\n",
        "    elif choice == 3:\n",
        "        user_id = int(input(\"Enter User ID: \"))\n",
        "        movie_id = int(input(\"Enter a Movie ID: \"))\n",
        "        hybrid_recommendation(user_id, movie_id)\n"
      ],
      "metadata": {
        "colab": {
          "base_uri": "https://localhost:8080/"
        },
        "id": "dK990hF17vuX",
        "outputId": "fa8bad08-0962-4442-ee0b-3b07c7bbef2d"
      },
      "execution_count": 7,
      "outputs": [
        {
          "output_type": "stream",
          "name": "stdout",
          "text": [
            "Welcome to the Recommendation System!\n",
            "1. Get Collaborative Filtering Recommendations\n",
            "2. Get Content-Based Recommendations\n",
            "3. Get Hybrid Recommendations\n",
            "Enter your choice: 1\n",
            "Predicted rating for User 1 on Movie 50: 4.129429809569108\n"
          ]
        }
      ]
    }
  ]
}